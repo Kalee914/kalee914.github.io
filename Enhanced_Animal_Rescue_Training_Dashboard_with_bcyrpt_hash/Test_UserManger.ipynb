{
 "cells": [
  {
   "cell_type": "code",
   "execution_count": 1,
   "id": "c1949385",
   "metadata": {},
   "outputs": [
    {
     "name": "stdout",
     "output_type": "stream",
     "text": [
      "Registering user test_hash with password hashpw1\n",
      "CreateUser result: {'ok': 1.0}\n",
      "User test_hash registered and created successfully\n"
     ]
    }
   ],
   "source": [
    "from UserManager import UserManager \n",
    "from AnimalShelters import AnimalShelter\n",
    "\n",
    "# Create an instance of UserManager\n",
    "user_manager = UserManager()\n",
    "username = \"test_hash\"\n",
    "password = \"hashpw1\"\n",
    "# Test User Registration\n",
    "\n",
    "print(f\"Registering user {username} with password {password}\")\n",
    "register_result = user_manager.register_user(username, password)\n",
    "print(register_result)"
   ]
  },
  {
   "cell_type": "code",
   "execution_count": 2,
   "id": "da50a555",
   "metadata": {},
   "outputs": [
    {
     "name": "stdout",
     "output_type": "stream",
     "text": [
      "Validating user test_hash with password hashpw1\n",
      "<AnimalShelters.AnimalShelter object at 0x0000020B0AA8CE08>\n"
     ]
    }
   ],
   "source": [
    "username = \"test_hash\"\n",
    "password = \"hashpw1\"\n",
    "print(f\"Validating user {username} with password {password}\")\n",
    "validation_result = user_manager.validate_user(username, password)\n",
    "print(validation_result)"
   ]
  },
  {
   "cell_type": "code",
   "execution_count": 3,
   "id": "673d46a6",
   "metadata": {},
   "outputs": [
    {
     "name": "stdout",
     "output_type": "stream",
     "text": [
      "Validating user test_hash with password wrongpassword\n",
      "Invalid username or password\n"
     ]
    }
   ],
   "source": [
    "invalid_username = \"test_hash\"\n",
    "invalid_password = \"wrongpassword\"\n",
    "print(f\"Validating user {invalid_username} with password {invalid_password}\")\n",
    "invalid_validation_result = user_manager.validate_user(invalid_username, invalid_password)\n",
    "print(invalid_validation_result)"
   ]
  },
  {
   "cell_type": "code",
   "execution_count": 4,
   "id": "a53f81b4",
   "metadata": {},
   "outputs": [
    {
     "name": "stdout",
     "output_type": "stream",
     "text": [
      "\n",
      "Attempting to register 'testuser' again\n",
      "Username already exists\n"
     ]
    }
   ],
   "source": [
    "# Try registering the same user again (should return 'Username already exists')\n",
    "username = \"test_hash\"\n",
    "password = \"hashpw1\"\n",
    "print(\"\\nAttempting to register 'testuser' again\")\n",
    "register_result = user_manager.register_user(username,password)\n",
    "print(register_result)"
   ]
  },
  {
   "cell_type": "code",
   "execution_count": null,
   "id": "0529ebac",
   "metadata": {},
   "outputs": [],
   "source": []
  }
 ],
 "metadata": {
  "kernelspec": {
   "display_name": "Python (myenv)",
   "language": "python",
   "name": "myenv"
  },
  "language_info": {
   "codemirror_mode": {
    "name": "ipython",
    "version": 3
   },
   "file_extension": ".py",
   "mimetype": "text/x-python",
   "name": "python",
   "nbconvert_exporter": "python",
   "pygments_lexer": "ipython3",
   "version": "3.7.16"
  }
 },
 "nbformat": 4,
 "nbformat_minor": 5
}
