{
 "cells": [
  {
   "cell_type": "code",
   "execution_count": 1,
   "id": "2bd28633",
   "metadata": {},
   "outputs": [
    {
     "name": "stderr",
     "output_type": "stream",
     "text": [
      "C:\\Users\\KaLee\\anaconda3\\envs\\myenv\\lib\\site-packages\\dash\\dash.py:539: UserWarning:\n",
      "\n",
      "JupyterDash is deprecated, use Dash instead.\n",
      "See https://dash.plotly.com/dash-in-jupyter for more details.\n",
      "\n"
     ]
    },
    {
     "data": {
      "text/html": [
       "\n",
       "        <iframe\n",
       "            width=\"100%\"\n",
       "            height=\"650\"\n",
       "            src=\"http://127.0.0.1:8050/\"\n",
       "            frameborder=\"0\"\n",
       "            allowfullscreen\n",
       "            \n",
       "        ></iframe>\n",
       "        "
      ],
      "text/plain": [
       "<IPython.lib.display.IFrame at 0x1e7357100c8>"
      ]
     },
     "metadata": {},
     "output_type": "display_data"
    },
    {
     "name": "stdout",
     "output_type": "stream",
     "text": [
      "Dash app running on http://127.0.0.1:8050/\n"
     ]
    }
   ],
   "source": [
    "# app.ipynb\n",
    "from jupyter_dash import JupyterDash\n",
    "from dash import Dash, html, dcc\n",
    "\n",
    "# Import login layout, main layout, and the callback registration functions\n",
    "from login_layout import login_layout, register_login_callback\n",
    "from UserManager import UserManager\n",
    "\n",
    "# Initialize UserManager instance\n",
    "user_manager = UserManager()\n",
    "\n",
    "#Initialize Dash app\n",
    "app = JupyterDash(__name__,suppress_callback_exceptions=True)\n",
    "\n",
    "# Initialize app layout with login layout\n",
    "app.layout = html.Div([\n",
    "    dcc.Location(id='url', refresh=False),  # URL component for route control\n",
    "    html.Div(id=\"page-content\", children=[login_layout])# Dynamic page content\n",
    "])\n",
    "\n",
    "# Initialize database connection to None\n",
    "app.db = None\n",
    "\n",
    "# Register the callbacks from both layout notebooks\n",
    "register_login_callback(app)\n",
    "\n",
    "\n",
    "# Run the app\n",
    "app.run_server(debug=True, port=8050)\n"
   ]
  },
  {
   "cell_type": "code",
   "execution_count": null,
   "id": "c1abd5a5",
   "metadata": {},
   "outputs": [],
   "source": []
  }
 ],
 "metadata": {
  "kernelspec": {
   "display_name": "Python (myenv)",
   "language": "python",
   "name": "myenv"
  },
  "language_info": {
   "codemirror_mode": {
    "name": "ipython",
    "version": 3
   },
   "file_extension": ".py",
   "mimetype": "text/x-python",
   "name": "python",
   "nbconvert_exporter": "python",
   "pygments_lexer": "ipython3",
   "version": "3.7.16"
  }
 },
 "nbformat": 4,
 "nbformat_minor": 5
}
